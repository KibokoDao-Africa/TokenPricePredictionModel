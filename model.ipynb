{
 "cells": [
  {
   "cell_type": "code",
   "execution_count": 2,
   "metadata": {},
   "outputs": [],
   "source": [
    "from giza_datasets import DatasetsLoader\n",
    "import pandas as pd\n",
    "import numpy as np\n",
    "import matplotlib.pyplot as plt\n",
    "from sklearn.model_selection import train_test_split\n",
    "import tensorflow as tf"
   ]
  },
  {
   "cell_type": "code",
   "execution_count": 3,
   "metadata": {},
   "outputs": [
    {
     "name": "stdout",
     "output_type": "stream",
     "text": [
      "Dataset read from cache.\n",
      "Loading dataset tokens-ohcl from cache.\n",
      "Min close: 0.0242, Max close: 77849.8442\n",
      "Min close: 0.0, Max close: 1.0\n"
     ]
    },
    {
     "data": {
      "text/html": [
       "<div>\n",
       "<style scoped>\n",
       "    .dataframe tbody tr th:only-of-type {\n",
       "        vertical-align: middle;\n",
       "    }\n",
       "\n",
       "    .dataframe tbody tr th {\n",
       "        vertical-align: top;\n",
       "    }\n",
       "\n",
       "    .dataframe thead th {\n",
       "        text-align: right;\n",
       "    }\n",
       "</style>\n",
       "<table border=\"1\" class=\"dataframe\">\n",
       "  <thead>\n",
       "    <tr style=\"text-align: right;\">\n",
       "      <th></th>\n",
       "      <th>Open</th>\n",
       "      <th>High</th>\n",
       "      <th>Low</th>\n",
       "      <th>Close</th>\n",
       "      <th>token</th>\n",
       "    </tr>\n",
       "    <tr>\n",
       "      <th>date</th>\n",
       "      <th></th>\n",
       "      <th></th>\n",
       "      <th></th>\n",
       "      <th></th>\n",
       "      <th></th>\n",
       "    </tr>\n",
       "  </thead>\n",
       "  <tbody>\n",
       "    <tr>\n",
       "      <th>2019-02-03</th>\n",
       "      <td>3438.3604</td>\n",
       "      <td>3472.2433</td>\n",
       "      <td>3438.3604</td>\n",
       "      <td>0.044458</td>\n",
       "      <td>WBTC</td>\n",
       "    </tr>\n",
       "    <tr>\n",
       "      <th>2019-02-07</th>\n",
       "      <td>3468.1600</td>\n",
       "      <td>3486.4073</td>\n",
       "      <td>3425.8603</td>\n",
       "      <td>0.044006</td>\n",
       "      <td>WBTC</td>\n",
       "    </tr>\n",
       "    <tr>\n",
       "      <th>2019-02-11</th>\n",
       "      <td>3387.7629</td>\n",
       "      <td>3770.3402</td>\n",
       "      <td>3387.7629</td>\n",
       "      <td>0.048431</td>\n",
       "      <td>WBTC</td>\n",
       "    </tr>\n",
       "    <tr>\n",
       "      <th>2019-02-15</th>\n",
       "      <td>3605.9233</td>\n",
       "      <td>3652.9015</td>\n",
       "      <td>3605.5237</td>\n",
       "      <td>0.046314</td>\n",
       "      <td>WBTC</td>\n",
       "    </tr>\n",
       "    <tr>\n",
       "      <th>2019-02-19</th>\n",
       "      <td>3613.8624</td>\n",
       "      <td>3831.3850</td>\n",
       "      <td>3613.8624</td>\n",
       "      <td>0.049215</td>\n",
       "      <td>WBTC</td>\n",
       "    </tr>\n",
       "  </tbody>\n",
       "</table>\n",
       "</div>"
      ],
      "text/plain": [
       "                 Open       High        Low     Close token\n",
       "date                                                       \n",
       "2019-02-03  3438.3604  3472.2433  3438.3604  0.044458  WBTC\n",
       "2019-02-07  3468.1600  3486.4073  3425.8603  0.044006  WBTC\n",
       "2019-02-11  3387.7629  3770.3402  3387.7629  0.048431  WBTC\n",
       "2019-02-15  3605.9233  3652.9015  3605.5237  0.046314  WBTC\n",
       "2019-02-19  3613.8624  3831.3850  3613.8624  0.049215  WBTC"
      ]
     },
     "metadata": {},
     "output_type": "display_data"
    },
    {
     "data": {
      "text/html": [
       "<div>\n",
       "<style scoped>\n",
       "    .dataframe tbody tr th:only-of-type {\n",
       "        vertical-align: middle;\n",
       "    }\n",
       "\n",
       "    .dataframe tbody tr th {\n",
       "        vertical-align: top;\n",
       "    }\n",
       "\n",
       "    .dataframe thead th {\n",
       "        text-align: right;\n",
       "    }\n",
       "</style>\n",
       "<table border=\"1\" class=\"dataframe\">\n",
       "  <thead>\n",
       "    <tr style=\"text-align: right;\">\n",
       "      <th></th>\n",
       "      <th>Open</th>\n",
       "      <th>High</th>\n",
       "      <th>Low</th>\n",
       "      <th>Close</th>\n",
       "      <th>token</th>\n",
       "    </tr>\n",
       "    <tr>\n",
       "      <th>date</th>\n",
       "      <th></th>\n",
       "      <th></th>\n",
       "      <th></th>\n",
       "      <th></th>\n",
       "      <th></th>\n",
       "    </tr>\n",
       "  </thead>\n",
       "  <tbody>\n",
       "    <tr>\n",
       "      <th>2024-01-07</th>\n",
       "      <td>2204.1786</td>\n",
       "      <td>2264.1205</td>\n",
       "      <td>2204.1786</td>\n",
       "      <td>0.028767</td>\n",
       "      <td>FRXETH</td>\n",
       "    </tr>\n",
       "    <tr>\n",
       "      <th>2024-01-11</th>\n",
       "      <td>2217.9515</td>\n",
       "      <td>2540.9835</td>\n",
       "      <td>2217.9515</td>\n",
       "      <td>0.032639</td>\n",
       "      <td>FRXETH</td>\n",
       "    </tr>\n",
       "    <tr>\n",
       "      <th>2024-01-15</th>\n",
       "      <td>2619.1350</td>\n",
       "      <td>2619.1350</td>\n",
       "      <td>2481.6893</td>\n",
       "      <td>0.031878</td>\n",
       "      <td>FRXETH</td>\n",
       "    </tr>\n",
       "    <tr>\n",
       "      <th>2024-01-19</th>\n",
       "      <td>2515.9513</td>\n",
       "      <td>2564.8498</td>\n",
       "      <td>2454.1049</td>\n",
       "      <td>0.031523</td>\n",
       "      <td>FRXETH</td>\n",
       "    </tr>\n",
       "    <tr>\n",
       "      <th>2024-01-23</th>\n",
       "      <td>2468.0286</td>\n",
       "      <td>2468.0286</td>\n",
       "      <td>2449.4172</td>\n",
       "      <td>0.031463</td>\n",
       "      <td>FRXETH</td>\n",
       "    </tr>\n",
       "  </tbody>\n",
       "</table>\n",
       "</div>"
      ],
      "text/plain": [
       "                 Open       High        Low     Close   token\n",
       "date                                                         \n",
       "2024-01-07  2204.1786  2264.1205  2204.1786  0.028767  FRXETH\n",
       "2024-01-11  2217.9515  2540.9835  2217.9515  0.032639  FRXETH\n",
       "2024-01-15  2619.1350  2619.1350  2481.6893  0.031878  FRXETH\n",
       "2024-01-19  2515.9513  2564.8498  2454.1049  0.031523  FRXETH\n",
       "2024-01-23  2468.0286  2468.0286  2449.4172  0.031463  FRXETH"
      ]
     },
     "metadata": {},
     "output_type": "display_data"
    },
    {
     "name": "stdout",
     "output_type": "stream",
     "text": [
      "Most recent date: 2024-01-23 00:00:00\n"
     ]
    }
   ],
   "source": [
    "loader = DatasetsLoader()\n",
    "df = loader.load('tokens-ohcl')\n",
    "data = df.to_pandas()\n",
    "data.set_index(\"date\", inplace=True)    # index the date column\n",
    "\n",
    "# normalize the close column\n",
    "min_close = data[\"Close\"].min()\n",
    "max_close = data[\"Close\"].max()\n",
    "print(f\"Min close: {min_close}, Max close: {max_close}\")\n",
    "data[\"Close\"] = (data[\"Close\"] - min_close) / (max_close - min_close)\n",
    "print(f\"Min close: {data['Close'].min()}, Max close: {data['Close'].max()}\")\n",
    "display(data.head())\n",
    "display(data.tail())\n",
    "\n",
    "# get the most recent date in the dataset\n",
    "most_recent_date = data.index.max()\n",
    "print(f\"Most recent date: {most_recent_date}\")"
   ]
  },
  {
   "cell_type": "code",
   "execution_count": 4,
   "metadata": {},
   "outputs": [
    {
     "data": {
      "text/html": [
       "<div><style>\n",
       ".dataframe > thead > tr,\n",
       ".dataframe > tbody > tr {\n",
       "  text-align: right;\n",
       "  white-space: pre-wrap;\n",
       "}\n",
       "</style>\n",
       "<small>shape: (11_138, 6)</small><table border=\"1\" class=\"dataframe\"><thead><tr><th>date</th><th>Open</th><th>High</th><th>Low</th><th>Close</th><th>token</th></tr><tr><td>date</td><td>f64</td><td>f64</td><td>f64</td><td>f64</td><td>str</td></tr></thead><tbody><tr><td>2019-02-03</td><td>3438.3604</td><td>3472.2433</td><td>3438.3604</td><td>3461.0583</td><td>&quot;WBTC&quot;</td></tr><tr><td>2019-02-07</td><td>3468.16</td><td>3486.4073</td><td>3425.8603</td><td>3425.8603</td><td>&quot;WBTC&quot;</td></tr><tr><td>2019-02-11</td><td>3387.7629</td><td>3770.3402</td><td>3387.7629</td><td>3770.3402</td><td>&quot;WBTC&quot;</td></tr><tr><td>2019-02-15</td><td>3605.9233</td><td>3652.9015</td><td>3605.5237</td><td>3605.5237</td><td>&quot;WBTC&quot;</td></tr><tr><td>2019-02-19</td><td>3613.8624</td><td>3831.385</td><td>3613.8624</td><td>3831.385</td><td>&quot;WBTC&quot;</td></tr><tr><td>&hellip;</td><td>&hellip;</td><td>&hellip;</td><td>&hellip;</td><td>&hellip;</td><td>&hellip;</td></tr><tr><td>2024-01-07</td><td>2204.1786</td><td>2264.1205</td><td>2204.1786</td><td>2239.5087</td><td>&quot;FRXETH&quot;</td></tr><tr><td>2024-01-11</td><td>2217.9515</td><td>2540.9835</td><td>2217.9515</td><td>2540.9835</td><td>&quot;FRXETH&quot;</td></tr><tr><td>2024-01-15</td><td>2619.135</td><td>2619.135</td><td>2481.6893</td><td>2481.6893</td><td>&quot;FRXETH&quot;</td></tr><tr><td>2024-01-19</td><td>2515.9513</td><td>2564.8498</td><td>2454.1049</td><td>2454.1049</td><td>&quot;FRXETH&quot;</td></tr><tr><td>2024-01-23</td><td>2468.0286</td><td>2468.0286</td><td>2449.4172</td><td>2449.4172</td><td>&quot;FRXETH&quot;</td></tr></tbody></table></div>"
      ],
      "text/plain": [
       "shape: (11_138, 6)\n",
       "┌────────────┬───────────┬───────────┬───────────┬───────────┬────────┐\n",
       "│ date       ┆ Open      ┆ High      ┆ Low       ┆ Close     ┆ token  │\n",
       "│ ---        ┆ ---       ┆ ---       ┆ ---       ┆ ---       ┆ ---    │\n",
       "│ date       ┆ f64       ┆ f64       ┆ f64       ┆ f64       ┆ str    │\n",
       "╞════════════╪═══════════╪═══════════╪═══════════╪═══════════╪════════╡\n",
       "│ 2019-02-03 ┆ 3438.3604 ┆ 3472.2433 ┆ 3438.3604 ┆ 3461.0583 ┆ WBTC   │\n",
       "│ 2019-02-07 ┆ 3468.16   ┆ 3486.4073 ┆ 3425.8603 ┆ 3425.8603 ┆ WBTC   │\n",
       "│ 2019-02-11 ┆ 3387.7629 ┆ 3770.3402 ┆ 3387.7629 ┆ 3770.3402 ┆ WBTC   │\n",
       "│ 2019-02-15 ┆ 3605.9233 ┆ 3652.9015 ┆ 3605.5237 ┆ 3605.5237 ┆ WBTC   │\n",
       "│ 2019-02-19 ┆ 3613.8624 ┆ 3831.385  ┆ 3613.8624 ┆ 3831.385  ┆ WBTC   │\n",
       "│ …          ┆ …         ┆ …         ┆ …         ┆ …         ┆ …      │\n",
       "│ 2024-01-07 ┆ 2204.1786 ┆ 2264.1205 ┆ 2204.1786 ┆ 2239.5087 ┆ FRXETH │\n",
       "│ 2024-01-11 ┆ 2217.9515 ┆ 2540.9835 ┆ 2217.9515 ┆ 2540.9835 ┆ FRXETH │\n",
       "│ 2024-01-15 ┆ 2619.135  ┆ 2619.135  ┆ 2481.6893 ┆ 2481.6893 ┆ FRXETH │\n",
       "│ 2024-01-19 ┆ 2515.9513 ┆ 2564.8498 ┆ 2454.1049 ┆ 2454.1049 ┆ FRXETH │\n",
       "│ 2024-01-23 ┆ 2468.0286 ┆ 2468.0286 ┆ 2449.4172 ┆ 2449.4172 ┆ FRXETH │\n",
       "└────────────┴───────────┴───────────┴───────────┴───────────┴────────┘"
      ]
     },
     "metadata": {},
     "output_type": "display_data"
    }
   ],
   "source": [
    "display(df)"
   ]
  },
  {
   "cell_type": "code",
   "execution_count": 5,
   "metadata": {},
   "outputs": [
    {
     "name": "stdout",
     "output_type": "stream",
     "text": [
      "30 246 61\n",
      "(9278, 61)\n",
      "X_train shape: (7422, 60)\n",
      "y_train shape: (7422,)\n",
      "X_test shape: (1856, 60)\n",
      "y_test shape: (1856,)\n",
      "X_train shape: (7422, 60, 1)\n",
      "X_test shape: (1856, 60, 1)\n"
     ]
    }
   ],
   "source": [
    "# Create sequences of n previous closing prices for each row\n",
    "len_sequence = 61\n",
    "\n",
    "# Create sequences for each token\n",
    "sequences = data.groupby('token')['Close'].apply(list).apply(lambda x: [x[i: i + len_sequence] for i in range(len(x)-len_sequence-1)]).to_list()    # shape: (n_tokens, n_sequences_per_token, len_sequence)\n",
    "print(len(sequences), len(sequences[0]), len(sequences[0][0]))\n",
    "sequences = np.array([item for sublist in sequences for item in sublist])   # shape: (n_total_sequences, len_sequence)\n",
    "print(sequences.shape)\n",
    "\n",
    "# Split the data into training and testing sets\n",
    "X_train, X_test, y_train, y_test = train_test_split(sequences[:, :len_sequence-1], sequences[:, len_sequence-1], test_size=0.2, random_state=42)\n",
    "print(\"X_train shape:\", X_train.shape)  # shape: (n_train_sequences, len_sequence-1)\n",
    "print(\"y_train shape:\", y_train.shape)  # shape: (n_train_sequences,)\n",
    "print(\"X_test shape:\", X_test.shape)    # shape: (n_test_sequences, len_sequence-1)\n",
    "print(\"y_test shape:\", y_test.shape)    # shape: (n_test_sequences,)\n",
    "\n",
    "# Reshape the input data to add the input dimension (1 in this case)\n",
    "X_train = np.expand_dims(X_train, axis=-1)  # shape: (n_train_sequences, len_sequence-1, 1)\n",
    "print(\"X_train shape:\", X_train.shape)\n",
    "X_test = np.expand_dims(X_test, axis=-1)    # shape: (n_test_sequences, len_sequence-1, 1)\n",
    "print(\"X_test shape:\", X_test.shape)"
   ]
  },
  {
   "cell_type": "code",
   "execution_count": 156,
   "metadata": {},
   "outputs": [
    {
     "name": "stdout",
     "output_type": "stream",
     "text": [
      "Epoch 1/30\n"
     ]
    },
    {
     "name": "stdout",
     "output_type": "stream",
     "text": [
      "\u001b[1m116/116\u001b[0m \u001b[32m━━━━━━━━━━━━━━━━━━━━\u001b[0m\u001b[37m\u001b[0m \u001b[1m7s\u001b[0m 36ms/step - loss: 0.0018 - val_loss: 3.0604e-04\n",
      "Epoch 2/30\n",
      "\u001b[1m116/116\u001b[0m \u001b[32m━━━━━━━━━━━━━━━━━━━━\u001b[0m\u001b[37m\u001b[0m \u001b[1m4s\u001b[0m 32ms/step - loss: 2.8223e-04 - val_loss: 1.9302e-04\n",
      "Epoch 3/30\n",
      "\u001b[1m116/116\u001b[0m \u001b[32m━━━━━━━━━━━━━━━━━━━━\u001b[0m\u001b[37m\u001b[0m \u001b[1m4s\u001b[0m 36ms/step - loss: 2.4547e-04 - val_loss: 2.5431e-04\n",
      "Epoch 4/30\n",
      "\u001b[1m116/116\u001b[0m \u001b[32m━━━━━━━━━━━━━━━━━━━━\u001b[0m\u001b[37m\u001b[0m \u001b[1m4s\u001b[0m 34ms/step - loss: 2.5918e-04 - val_loss: 1.8762e-04\n",
      "Epoch 5/30\n",
      "\u001b[1m116/116\u001b[0m \u001b[32m━━━━━━━━━━━━━━━━━━━━\u001b[0m\u001b[37m\u001b[0m \u001b[1m4s\u001b[0m 36ms/step - loss: 2.4281e-04 - val_loss: 1.3995e-04\n",
      "Epoch 6/30\n",
      "\u001b[1m116/116\u001b[0m \u001b[32m━━━━━━━━━━━━━━━━━━━━\u001b[0m\u001b[37m\u001b[0m \u001b[1m4s\u001b[0m 38ms/step - loss: 1.8208e-04 - val_loss: 1.2218e-04\n",
      "Epoch 7/30\n",
      "\u001b[1m116/116\u001b[0m \u001b[32m━━━━━━━━━━━━━━━━━━━━\u001b[0m\u001b[37m\u001b[0m \u001b[1m4s\u001b[0m 34ms/step - loss: 2.1259e-04 - val_loss: 1.3150e-04\n",
      "Epoch 8/30\n",
      "\u001b[1m116/116\u001b[0m \u001b[32m━━━━━━━━━━━━━━━━━━━━\u001b[0m\u001b[37m\u001b[0m \u001b[1m4s\u001b[0m 37ms/step - loss: 1.8656e-04 - val_loss: 1.3696e-04\n",
      "Epoch 9/30\n",
      "\u001b[1m116/116\u001b[0m \u001b[32m━━━━━━━━━━━━━━━━━━━━\u001b[0m\u001b[37m\u001b[0m \u001b[1m5s\u001b[0m 43ms/step - loss: 1.6838e-04 - val_loss: 1.0526e-04\n",
      "Epoch 10/30\n",
      "\u001b[1m116/116\u001b[0m \u001b[32m━━━━━━━━━━━━━━━━━━━━\u001b[0m\u001b[37m\u001b[0m \u001b[1m4s\u001b[0m 36ms/step - loss: 1.9096e-04 - val_loss: 1.0051e-04\n",
      "Epoch 11/30\n",
      "\u001b[1m116/116\u001b[0m \u001b[32m━━━━━━━━━━━━━━━━━━━━\u001b[0m\u001b[37m\u001b[0m \u001b[1m4s\u001b[0m 37ms/step - loss: 1.5556e-04 - val_loss: 9.5848e-05\n",
      "Epoch 12/30\n",
      "\u001b[1m116/116\u001b[0m \u001b[32m━━━━━━━━━━━━━━━━━━━━\u001b[0m\u001b[37m\u001b[0m \u001b[1m4s\u001b[0m 35ms/step - loss: 1.3205e-04 - val_loss: 1.0289e-04\n",
      "Epoch 13/30\n",
      "\u001b[1m116/116\u001b[0m \u001b[32m━━━━━━━━━━━━━━━━━━━━\u001b[0m\u001b[37m\u001b[0m \u001b[1m4s\u001b[0m 35ms/step - loss: 2.0494e-04 - val_loss: 9.9424e-05\n",
      "Epoch 14/30\n",
      "\u001b[1m116/116\u001b[0m \u001b[32m━━━━━━━━━━━━━━━━━━━━\u001b[0m\u001b[37m\u001b[0m \u001b[1m5s\u001b[0m 40ms/step - loss: 1.2030e-04 - val_loss: 8.2736e-05\n",
      "Epoch 15/30\n",
      "\u001b[1m116/116\u001b[0m \u001b[32m━━━━━━━━━━━━━━━━━━━━\u001b[0m\u001b[37m\u001b[0m \u001b[1m4s\u001b[0m 37ms/step - loss: 1.5586e-04 - val_loss: 7.9134e-05\n",
      "Epoch 16/30\n",
      "\u001b[1m116/116\u001b[0m \u001b[32m━━━━━━━━━━━━━━━━━━━━\u001b[0m\u001b[37m\u001b[0m \u001b[1m5s\u001b[0m 40ms/step - loss: 1.0300e-04 - val_loss: 1.0503e-04\n",
      "Epoch 17/30\n",
      "\u001b[1m116/116\u001b[0m \u001b[32m━━━━━━━━━━━━━━━━━━━━\u001b[0m\u001b[37m\u001b[0m \u001b[1m4s\u001b[0m 37ms/step - loss: 9.3127e-05 - val_loss: 1.4021e-04\n",
      "Epoch 18/30\n",
      "\u001b[1m116/116\u001b[0m \u001b[32m━━━━━━━━━━━━━━━━━━━━\u001b[0m\u001b[37m\u001b[0m \u001b[1m5s\u001b[0m 40ms/step - loss: 1.4041e-04 - val_loss: 1.2220e-04\n",
      "Epoch 19/30\n",
      "\u001b[1m116/116\u001b[0m \u001b[32m━━━━━━━━━━━━━━━━━━━━\u001b[0m\u001b[37m\u001b[0m \u001b[1m4s\u001b[0m 33ms/step - loss: 1.7594e-04 - val_loss: 7.3251e-05\n",
      "Epoch 20/30\n",
      "\u001b[1m116/116\u001b[0m \u001b[32m━━━━━━━━━━━━━━━━━━━━\u001b[0m\u001b[37m\u001b[0m \u001b[1m4s\u001b[0m 33ms/step - loss: 1.3026e-04 - val_loss: 7.4124e-05\n",
      "Epoch 21/30\n",
      "\u001b[1m116/116\u001b[0m \u001b[32m━━━━━━━━━━━━━━━━━━━━\u001b[0m\u001b[37m\u001b[0m \u001b[1m4s\u001b[0m 32ms/step - loss: 2.0225e-04 - val_loss: 6.8877e-05\n",
      "Epoch 22/30\n",
      "\u001b[1m116/116\u001b[0m \u001b[32m━━━━━━━━━━━━━━━━━━━━\u001b[0m\u001b[37m\u001b[0m \u001b[1m4s\u001b[0m 32ms/step - loss: 8.7278e-05 - val_loss: 1.0293e-04\n",
      "Epoch 23/30\n",
      "\u001b[1m116/116\u001b[0m \u001b[32m━━━━━━━━━━━━━━━━━━━━\u001b[0m\u001b[37m\u001b[0m \u001b[1m4s\u001b[0m 33ms/step - loss: 1.4404e-04 - val_loss: 6.5739e-05\n",
      "Epoch 24/30\n",
      "\u001b[1m116/116\u001b[0m \u001b[32m━━━━━━━━━━━━━━━━━━━━\u001b[0m\u001b[37m\u001b[0m \u001b[1m4s\u001b[0m 33ms/step - loss: 6.1866e-05 - val_loss: 1.1560e-04\n",
      "Epoch 25/30\n",
      "\u001b[1m116/116\u001b[0m \u001b[32m━━━━━━━━━━━━━━━━━━━━\u001b[0m\u001b[37m\u001b[0m \u001b[1m4s\u001b[0m 32ms/step - loss: 1.5845e-04 - val_loss: 6.1438e-05\n",
      "Epoch 26/30\n",
      "\u001b[1m116/116\u001b[0m \u001b[32m━━━━━━━━━━━━━━━━━━━━\u001b[0m\u001b[37m\u001b[0m \u001b[1m4s\u001b[0m 33ms/step - loss: 7.6120e-05 - val_loss: 6.3703e-05\n",
      "Epoch 27/30\n",
      "\u001b[1m116/116\u001b[0m \u001b[32m━━━━━━━━━━━━━━━━━━━━\u001b[0m\u001b[37m\u001b[0m \u001b[1m4s\u001b[0m 32ms/step - loss: 9.1827e-05 - val_loss: 7.1121e-05\n",
      "Epoch 28/30\n",
      "\u001b[1m116/116\u001b[0m \u001b[32m━━━━━━━━━━━━━━━━━━━━\u001b[0m\u001b[37m\u001b[0m \u001b[1m4s\u001b[0m 32ms/step - loss: 1.1919e-04 - val_loss: 7.9531e-05\n",
      "Epoch 29/30\n",
      "\u001b[1m116/116\u001b[0m \u001b[32m━━━━━━━━━━━━━━━━━━━━\u001b[0m\u001b[37m\u001b[0m \u001b[1m4s\u001b[0m 33ms/step - loss: 1.1404e-04 - val_loss: 5.8031e-05\n",
      "Epoch 30/30\n",
      "\u001b[1m116/116\u001b[0m \u001b[32m━━━━━━━━━━━━━━━━━━━━\u001b[0m\u001b[37m\u001b[0m \u001b[1m4s\u001b[0m 32ms/step - loss: 1.7645e-04 - val_loss: 6.2619e-05\n"
     ]
    },
    {
     "data": {
      "text/plain": [
       "Text(0.5, 1.0, 'Loss Evolution')"
      ]
     },
     "execution_count": 156,
     "metadata": {},
     "output_type": "execute_result"
    },
    {
     "data": {
      "image/png": "[encoded data removed]",
      "text/plain": [
       "<Figure size 1200x400 with 1 Axes>"
      ]
     },
     "metadata": {},
     "output_type": "display_data"
    }
   ],
   "source": [
    "# construct model\n",
    "training_model = tf.keras.Sequential([\n",
    "    tf.keras.layers.LSTM(50, return_sequences=True),\n",
    "    tf.keras.layers.LSTM(50),\n",
    "    tf.keras.layers.Dense(1)\n",
    "])\n",
    "\n",
    "# compile the model\n",
    "training_model.compile(optimizer=tf.keras.optimizers.Adam(learning_rate=0.001), loss='mean_squared_error')\n",
    "\n",
    "# train the model\n",
    "history = training_model.fit(X_train, y_train, epochs=30, batch_size=64, validation_data=(X_test, y_test))\n",
    "\n",
    "# plot the training and validation loss\n",
    "plt.figure(figsize=(12, 4))\n",
    "plt.subplot(1, 2, 1)\n",
    "plt.plot(history.history['loss'], label='Train Loss')\n",
    "plt.plot(history.history['val_loss'], label='Test Loss')\n",
    "plt.legend()\n",
    "plt.title('Loss Evolution')"
   ]
  },
  {
   "cell_type": "code",
   "execution_count": 193,
   "metadata": {},
   "outputs": [
    {
     "name": "stdout",
     "output_type": "stream",
     "text": [
      "Tokens:  {'WBTC': 0, 'WETH': 1, 'USDC': 2, 'USDT': 3, 'DAI': 4, 'LINK': 5, 'AAVE': 6, 'STETH': 7, 'WSTETH': 8, 'ETH': 9, 'FRAX': 10, 'RETH': 11, 'YFI': 12, 'MIM': 13, '3CRV': 14, 'ALCX': 15, 'MKR': 16, 'STMATIC': 17, 'WAVAX': 18, 'UNI': 19, 'COMP': 20, 'GNO': 21, 'COW': 22, 'ALUSD': 23, 'SAVAX': 24, 'WMATIC': 25, 'CVX': 26, 'WOO': 27, 'TUSD': 28, 'FRXETH': 29}\n"
     ]
    }
   ],
   "source": [
    "class InferenceModel(tf.keras.Model):\n",
    "    def __init__(self, training_model, latest_sequence_per_token, min_close: float, max_close: float):\n",
    "        super(InferenceModel, self).__init__()\n",
    "        self.training_model = training_model\n",
    "        self.min_close = min_close\n",
    "        self.max_close = max_close\n",
    "        self.latest_sequence_per_token = tf.constant(latest_sequence_per_token, dtype=tf.float32)  # convert to tensor\n",
    "\n",
    "    @tf.function\n",
    "    def call(self, inputs):\n",
    "        num_intervals = inputs[0]\n",
    "        num_intervals = tf.cast(num_intervals, dtype=tf.int32)  # convert to int32\n",
    "        token = inputs[1]\n",
    "        token = tf.cast(token, dtype=tf.int32)  # convert to int32\n",
    "        sequence = tf.gather(self.latest_sequence_per_token, token)    # get the latest sequence for the token\n",
    "        len_sequence = tf.constant(sequence.shape[0], dtype=tf.int32)  # get the length of the sequence\n",
    "\n",
    "        # Define the loop condition\n",
    "        def condition(i, sequence):\n",
    "            return i < num_intervals\n",
    "\n",
    "        # Define the loop body\n",
    "        def body(i, sequence):\n",
    "            inputs = sequence[-len_sequence:]           # get the last sequence\n",
    "            inputs = tf.expand_dims(inputs, axis=-1)    # add the input dimension\n",
    "            inputs = tf.expand_dims(inputs, axis=0)     # add the batch dimension\n",
    "            prediction = self.training_model(inputs)    # predict the closing price for the next interval\n",
    "            sequence = tf.concat([sequence, prediction[0]], axis=0)             # append the prediction to the sequence\n",
    "            return i + 1, sequence\n",
    "\n",
    "        # Use tf.while_loop to construct the loop\n",
    "        _, final_sequence = tf.while_loop(condition, body, [0, sequence], shape_invariants=[tf.TensorShape([]), tf.TensorShape([None])])\n",
    "\n",
    "        # denormalize the result\n",
    "        final_sequence = final_sequence * (self.max_close - self.min_close) + self.min_close\n",
    "\n",
    "        return final_sequence[-num_intervals:]  # return the last value in the sequence\n",
    "    \n",
    "\n",
    "# create a dictionary with the latest sequence for each token\n",
    "latest_sequence_per_token = [data[data['token'] == token]['Close'].values[-len_sequence:] for token in data['token'].unique()]\n",
    "tokens = {element:idx for idx, element in enumerate(data['token'].unique())}\n",
    "print(\"Tokens: \", tokens)\n",
    "\n",
    "# construct and save the inference model\n",
    "inference_model = InferenceModel(training_model, latest_sequence_per_token, min_close, max_close)\n",
    "inference_model.build(input_shape=(2,))"
   ]
  },
  {
   "cell_type": "code",
   "execution_count": 194,
   "metadata": {},
   "outputs": [
    {
     "name": "stdout",
     "output_type": "stream",
     "text": [
      "tf.Tensor(\n",
      "[2433.658  2420.7485 2407.601  2394.5706 2381.545  2368.3408 2354.7979\n",
      " 2340.8022], shape=(8,), dtype=float32)\n",
      "Predicted closing price for token 'BTC' on 2024-02-24: 2340.80224609375\n"
     ]
    }
   ],
   "source": [
    "# Run the model to predict the closing price on 2024-02-04 for token 'FRXETH'\n",
    "\n",
    "# get the number of intervals between the most recent date and the target date (interval = 4 days)\n",
    "target_date = '2024-02-24'\n",
    "num_intervals = (pd.Timestamp(target_date) - most_recent_date).days // 4\n",
    "token = tokens['FRXETH']\n",
    "\n",
    "# predict the closing price for the target date\n",
    "final_sequence = inference_model(inputs=[num_intervals, token])\n",
    "print(final_sequence)\n",
    "print(f\"Predicted closing price for token 'BTC' on {target_date}: {final_sequence[-1]}\")"
   ]
  },
  {
   "cell_type": "code",
   "execution_count": 195,
   "metadata": {},
   "outputs": [
    {
     "name": "stdout",
     "output_type": "stream",
     "text": [
      "INFO:tensorflow:Assets written to: TokenPricePredictionModel/0000001\\assets\n"
     ]
    },
    {
     "name": "stderr",
     "output_type": "stream",
     "text": [
      "INFO:tensorflow:Assets written to: TokenPricePredictionModel/0000001\\assets\n"
     ]
    },
    {
     "name": "stdout",
     "output_type": "stream",
     "text": [
      "Saved artifact at 'TokenPricePredictionModel/0000001'. The following endpoints are available:\n",
      "\n",
      "* Endpoint 'serve'\n",
      "  args_0 (POSITIONAL_ONLY): TensorSpec(shape=(None,), dtype=tf.float32, name=None)\n",
      "Output Type:\n",
      "  TensorSpec(shape=(None,), dtype=tf.float32, name=None)\n",
      "Captures:\n",
      "  2352644327728: TensorSpec(shape=(30, 61), dtype=tf.float32, name=None)\n",
      "  2352783592256: TensorSpec(shape=(), dtype=tf.resource, name=None)\n",
      "  2352783592608: TensorSpec(shape=(), dtype=tf.resource, name=None)\n",
      "  2352783592784: TensorSpec(shape=(), dtype=tf.resource, name=None)\n",
      "  2352783592960: TensorSpec(shape=(), dtype=tf.resource, name=None)\n",
      "  2352783593136: TensorSpec(shape=(), dtype=tf.resource, name=None)\n",
      "  2352783593312: TensorSpec(shape=(), dtype=tf.resource, name=None)\n",
      "  2352783594016: TensorSpec(shape=(), dtype=tf.resource, name=None)\n",
      "  2352783594192: TensorSpec(shape=(), dtype=tf.resource, name=None)\n"
     ]
    }
   ],
   "source": [
    "# Save the model\n",
    "inference_model.export('TokenPricePredictionModel/0000001')"
   ]
  },
  {
   "cell_type": "code",
   "execution_count": 196,
   "metadata": {},
   "outputs": [
    {
     "name": "stdout",
     "output_type": "stream",
     "text": [
      "ae57c468d10b04df61a578b1b71c53370f7fcc1d92bf9c6c9c2341ee07627f44\n"
     ]
    }
   ],
   "source": [
    "# deploy the model to a TensorFlow Serving container\n",
    "!docker run -d -p 8501:8501 --name tfserving_token_price_prediction --mount type=bind,source=/c/Users/Moses/Desktop/TokenPricePredictionModel/TokenPricePredictionModel,target=/models/TokenPricePredictionModel -e MODEL_NAME=TokenPricePredictionModel -t tensorflow/serving"
   ]
  },
  {
   "cell_type": "code",
   "execution_count": 8,
   "metadata": {},
   "outputs": [
    {
     "ename": "TypeError",
     "evalue": "string indices must be integers, not 'str'",
     "output_type": "error",
     "traceback": [
      "\u001b[1;31m---------------------------------------------------------------------------\u001b[0m",
      "\u001b[1;31mTypeError\u001b[0m                                 Traceback (most recent call last)",
      "Cell \u001b[1;32mIn[8], line 8\u001b[0m\n\u001b[0;32m      5\u001b[0m num_intervals \u001b[38;5;241m=\u001b[39m (pd\u001b[38;5;241m.\u001b[39mTimestamp(target_date) \u001b[38;5;241m-\u001b[39m most_recent_date)\u001b[38;5;241m.\u001b[39mdays \u001b[38;5;241m/\u001b[39m\u001b[38;5;241m/\u001b[39m \u001b[38;5;241m4\u001b[39m\n\u001b[0;32m      7\u001b[0m \u001b[38;5;66;03m# get the token index\u001b[39;00m\n\u001b[1;32m----> 8\u001b[0m tokens \u001b[38;5;241m=\u001b[39m {element:idx \u001b[38;5;28;01mfor\u001b[39;00m idx, element \u001b[38;5;129;01min\u001b[39;00m \u001b[38;5;28menumerate\u001b[39m(\u001b[43mdata\u001b[49m\u001b[43m[\u001b[49m\u001b[38;5;124;43m'\u001b[39;49m\u001b[38;5;124;43mtoken\u001b[39;49m\u001b[38;5;124;43m'\u001b[39;49m\u001b[43m]\u001b[49m\u001b[38;5;241m.\u001b[39munique())}\n\u001b[0;32m      9\u001b[0m \u001b[38;5;28mprint\u001b[39m(\u001b[38;5;124m\"\u001b[39m\u001b[38;5;124mTokens: \u001b[39m\u001b[38;5;124m\"\u001b[39m, tokens)\n\u001b[0;32m     11\u001b[0m \u001b[38;5;66;03m# make a request to the TensorFlow Serving container\u001b[39;00m\n",
      "\u001b[1;31mTypeError\u001b[0m: string indices must be integers, not 'str'"
     ]
    }
   ],
   "source": [
    "# make a request to the container to predict the closing price on 2024-02-04 for token 'FRXETH'\n",
    "\n",
    "# get the number of intervals between the most recent date and the target date (interval = 4 days)\n",
    "target_date = '2024-02-04'\n",
    "num_intervals = (pd.Timestamp(target_date) - most_recent_date).days // 4\n",
    "\n",
    "# make a request to the TensorFlow Serving container\n",
    "import requests\n",
    "import json\n",
    "\n",
    "url = 'http://44.195.61.90:8501/v1/models/TokenPricePredictionModel:predict'\n",
    "headers = {\"content-type\": \"application/json\"}\n",
    "data = json.dumps({\"signature_name\": \"serving_default\", \"instances\": [num_intervals, tokens[\"FRXETH\"]]})\n",
    "response = requests.post(url, data=data, headers=headers)\n",
    "print(response.json())"
   ]
  }
 ],
 "metadata": {
  "kernelspec": {
   "display_name": "venv",
   "language": "python",
   "name": "python3"
  },
  "language_info": {
   "codemirror_mode": {
    "name": "ipython",
    "version": 3
   },
   "file_extension": ".py",
   "mimetype": "text/x-python",
   "name": "python",
   "nbconvert_exporter": "python",
   "pygments_lexer": "ipython3",
   "version": "3.11.9"
  }
 },
 "nbformat": 4,
 "nbformat_minor": 2
}
