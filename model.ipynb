{
 "cells": [
  {
   "cell_type": "code",
   "execution_count": 1,
   "metadata": {},
   "outputs": [],
   "source": [
    "from giza_datasets import DatasetsLoader\n",
    "import pandas as pd\n",
    "import numpy as np\n",
    "import matplotlib.pyplot as plt\n",
    "from sklearn.model_selection import train_test_split\n",
    "import tensorflow as tf\n",
    "\n",
    "plt.style.use(\"seaborn-v0_8\")"
   ]
  },
  {
   "cell_type": "code",
   "execution_count": 2,
   "metadata": {},
   "outputs": [
    {
     "name": "stdout",
     "output_type": "stream",
     "text": [
      "Dataset read from cache.\n",
      "Loading dataset tokens-ohcl from cache.\n",
      "Min price: 0.0226, Max price: 82070.7575\n",
      "Min price: 0.0, Max price: 1.0\n"
     ]
    },
    {
     "data": {
      "text/html": [
       "<div>\n",
       "<style scoped>\n",
       "    .dataframe tbody tr th:only-of-type {\n",
       "        vertical-align: middle;\n",
       "    }\n",
       "\n",
       "    .dataframe tbody tr th {\n",
       "        vertical-align: top;\n",
       "    }\n",
       "\n",
       "    .dataframe thead th {\n",
       "        text-align: right;\n",
       "    }\n",
       "</style>\n",
       "<table border=\"1\" class=\"dataframe\">\n",
       "  <thead>\n",
       "    <tr style=\"text-align: right;\">\n",
       "      <th></th>\n",
       "      <th>Open</th>\n",
       "      <th>High</th>\n",
       "      <th>Low</th>\n",
       "      <th>Close</th>\n",
       "      <th>token</th>\n",
       "    </tr>\n",
       "    <tr>\n",
       "      <th>date</th>\n",
       "      <th></th>\n",
       "      <th></th>\n",
       "      <th></th>\n",
       "      <th></th>\n",
       "      <th></th>\n",
       "    </tr>\n",
       "  </thead>\n",
       "  <tbody>\n",
       "    <tr>\n",
       "      <th>2019-02-03</th>\n",
       "      <td>0.041895</td>\n",
       "      <td>0.042308</td>\n",
       "      <td>0.041895</td>\n",
       "      <td>0.042171</td>\n",
       "      <td>WBTC</td>\n",
       "    </tr>\n",
       "    <tr>\n",
       "      <th>2019-02-07</th>\n",
       "      <td>0.042258</td>\n",
       "      <td>0.042480</td>\n",
       "      <td>0.041743</td>\n",
       "      <td>0.041743</td>\n",
       "      <td>WBTC</td>\n",
       "    </tr>\n",
       "    <tr>\n",
       "      <th>2019-02-11</th>\n",
       "      <td>0.041278</td>\n",
       "      <td>0.045940</td>\n",
       "      <td>0.041278</td>\n",
       "      <td>0.045940</td>\n",
       "      <td>WBTC</td>\n",
       "    </tr>\n",
       "    <tr>\n",
       "      <th>2019-02-15</th>\n",
       "      <td>0.043936</td>\n",
       "      <td>0.044509</td>\n",
       "      <td>0.043932</td>\n",
       "      <td>0.043932</td>\n",
       "      <td>WBTC</td>\n",
       "    </tr>\n",
       "    <tr>\n",
       "      <th>2019-02-19</th>\n",
       "      <td>0.044033</td>\n",
       "      <td>0.046684</td>\n",
       "      <td>0.044033</td>\n",
       "      <td>0.046684</td>\n",
       "      <td>WBTC</td>\n",
       "    </tr>\n",
       "  </tbody>\n",
       "</table>\n",
       "</div>"
      ],
      "text/plain": [
       "                Open      High       Low     Close token\n",
       "date                                                    \n",
       "2019-02-03  0.041895  0.042308  0.041895  0.042171  WBTC\n",
       "2019-02-07  0.042258  0.042480  0.041743  0.041743  WBTC\n",
       "2019-02-11  0.041278  0.045940  0.041278  0.045940  WBTC\n",
       "2019-02-15  0.043936  0.044509  0.043932  0.043932  WBTC\n",
       "2019-02-19  0.044033  0.046684  0.044033  0.046684  WBTC"
      ]
     },
     "metadata": {},
     "output_type": "display_data"
    },
    {
     "data": {
      "text/html": [
       "<div>\n",
       "<style scoped>\n",
       "    .dataframe tbody tr th:only-of-type {\n",
       "        vertical-align: middle;\n",
       "    }\n",
       "\n",
       "    .dataframe tbody tr th {\n",
       "        vertical-align: top;\n",
       "    }\n",
       "\n",
       "    .dataframe thead th {\n",
       "        text-align: right;\n",
       "    }\n",
       "</style>\n",
       "<table border=\"1\" class=\"dataframe\">\n",
       "  <thead>\n",
       "    <tr style=\"text-align: right;\">\n",
       "      <th></th>\n",
       "      <th>Open</th>\n",
       "      <th>High</th>\n",
       "      <th>Low</th>\n",
       "      <th>Close</th>\n",
       "      <th>token</th>\n",
       "    </tr>\n",
       "    <tr>\n",
       "      <th>date</th>\n",
       "      <th></th>\n",
       "      <th></th>\n",
       "      <th></th>\n",
       "      <th></th>\n",
       "      <th></th>\n",
       "    </tr>\n",
       "  </thead>\n",
       "  <tbody>\n",
       "    <tr>\n",
       "      <th>2024-01-07</th>\n",
       "      <td>0.026857</td>\n",
       "      <td>0.027587</td>\n",
       "      <td>0.026857</td>\n",
       "      <td>0.027287</td>\n",
       "      <td>FRXETH</td>\n",
       "    </tr>\n",
       "    <tr>\n",
       "      <th>2024-01-11</th>\n",
       "      <td>0.027025</td>\n",
       "      <td>0.030961</td>\n",
       "      <td>0.027025</td>\n",
       "      <td>0.030961</td>\n",
       "      <td>FRXETH</td>\n",
       "    </tr>\n",
       "    <tr>\n",
       "      <th>2024-01-15</th>\n",
       "      <td>0.031913</td>\n",
       "      <td>0.031913</td>\n",
       "      <td>0.030238</td>\n",
       "      <td>0.030238</td>\n",
       "      <td>FRXETH</td>\n",
       "    </tr>\n",
       "    <tr>\n",
       "      <th>2024-01-19</th>\n",
       "      <td>0.030656</td>\n",
       "      <td>0.031251</td>\n",
       "      <td>0.029902</td>\n",
       "      <td>0.029902</td>\n",
       "      <td>FRXETH</td>\n",
       "    </tr>\n",
       "    <tr>\n",
       "      <th>2024-01-23</th>\n",
       "      <td>0.030072</td>\n",
       "      <td>0.030072</td>\n",
       "      <td>0.029845</td>\n",
       "      <td>0.029845</td>\n",
       "      <td>FRXETH</td>\n",
       "    </tr>\n",
       "  </tbody>\n",
       "</table>\n",
       "</div>"
      ],
      "text/plain": [
       "                Open      High       Low     Close   token\n",
       "date                                                      \n",
       "2024-01-07  0.026857  0.027587  0.026857  0.027287  FRXETH\n",
       "2024-01-11  0.027025  0.030961  0.027025  0.030961  FRXETH\n",
       "2024-01-15  0.031913  0.031913  0.030238  0.030238  FRXETH\n",
       "2024-01-19  0.030656  0.031251  0.029902  0.029902  FRXETH\n",
       "2024-01-23  0.030072  0.030072  0.029845  0.029845  FRXETH"
      ]
     },
     "metadata": {},
     "output_type": "display_data"
    },
    {
     "name": "stdout",
     "output_type": "stream",
     "text": [
      "Most recent date: 2024-01-23 00:00:00\n"
     ]
    }
   ],
   "source": [
    "loader = DatasetsLoader()\n",
    "df = loader.load('tokens-ohcl')\n",
    "data = df.to_pandas()\n",
    "data.set_index(\"date\", inplace=True)    # index the date column\n",
    "\n",
    "prices = ['Open', 'High', 'Low', 'Close']   # the prices to predict\n",
    "\n",
    "# normalize the 4 columns\n",
    "min_price = data[prices].values.min()\n",
    "max_price = data[prices].values.max()\n",
    "print(f\"Min price: {min_price}, Max price: {max_price}\")\n",
    "\n",
    "data[prices] = (data[prices] - min_price) / (max_price - min_price)\n",
    "print(f\"Min price: {data[prices].values.min()}, Max price: {data[prices].values.max()}\")\n",
    "\n",
    "# min_price = min_price.values\n",
    "# max_price = max_price.values\n",
    "\n",
    "display(data.head())\n",
    "display(data.tail())\n",
    "\n",
    "# get the most recent date in the dataset\n",
    "most_recent_date = data.index.max()\n",
    "print(f\"Most recent date: {most_recent_date}\")"
   ]
  },
  {
   "cell_type": "code",
   "execution_count": 3,
   "metadata": {},
   "outputs": [
    {
     "data": {
      "text/html": [
       "<div><style>\n",
       ".dataframe > thead > tr,\n",
       ".dataframe > tbody > tr {\n",
       "  text-align: right;\n",
       "  white-space: pre-wrap;\n",
       "}\n",
       "</style>\n",
       "<small>shape: (11_138, 6)</small><table border=\"1\" class=\"dataframe\"><thead><tr><th>date</th><th>Open</th><th>High</th><th>Low</th><th>Close</th><th>token</th></tr><tr><td>date</td><td>f64</td><td>f64</td><td>f64</td><td>f64</td><td>str</td></tr></thead><tbody><tr><td>2019-02-03</td><td>3438.3604</td><td>3472.2433</td><td>3438.3604</td><td>3461.0583</td><td>&quot;WBTC&quot;</td></tr><tr><td>2019-02-07</td><td>3468.16</td><td>3486.4073</td><td>3425.8603</td><td>3425.8603</td><td>&quot;WBTC&quot;</td></tr><tr><td>2019-02-11</td><td>3387.7629</td><td>3770.3402</td><td>3387.7629</td><td>3770.3402</td><td>&quot;WBTC&quot;</td></tr><tr><td>2019-02-15</td><td>3605.9233</td><td>3652.9015</td><td>3605.5237</td><td>3605.5237</td><td>&quot;WBTC&quot;</td></tr><tr><td>2019-02-19</td><td>3613.8624</td><td>3831.385</td><td>3613.8624</td><td>3831.385</td><td>&quot;WBTC&quot;</td></tr><tr><td>&hellip;</td><td>&hellip;</td><td>&hellip;</td><td>&hellip;</td><td>&hellip;</td><td>&hellip;</td></tr><tr><td>2024-01-07</td><td>2204.1786</td><td>2264.1205</td><td>2204.1786</td><td>2239.5087</td><td>&quot;FRXETH&quot;</td></tr><tr><td>2024-01-11</td><td>2217.9515</td><td>2540.9835</td><td>2217.9515</td><td>2540.9835</td><td>&quot;FRXETH&quot;</td></tr><tr><td>2024-01-15</td><td>2619.135</td><td>2619.135</td><td>2481.6893</td><td>2481.6893</td><td>&quot;FRXETH&quot;</td></tr><tr><td>2024-01-19</td><td>2515.9513</td><td>2564.8498</td><td>2454.1049</td><td>2454.1049</td><td>&quot;FRXETH&quot;</td></tr><tr><td>2024-01-23</td><td>2468.0286</td><td>2468.0286</td><td>2449.4172</td><td>2449.4172</td><td>&quot;FRXETH&quot;</td></tr></tbody></table></div>"
      ],
      "text/plain": [
       "shape: (11_138, 6)\n",
       "┌────────────┬───────────┬───────────┬───────────┬───────────┬────────┐\n",
       "│ date       ┆ Open      ┆ High      ┆ Low       ┆ Close     ┆ token  │\n",
       "│ ---        ┆ ---       ┆ ---       ┆ ---       ┆ ---       ┆ ---    │\n",
       "│ date       ┆ f64       ┆ f64       ┆ f64       ┆ f64       ┆ str    │\n",
       "╞════════════╪═══════════╪═══════════╪═══════════╪═══════════╪════════╡\n",
       "│ 2019-02-03 ┆ 3438.3604 ┆ 3472.2433 ┆ 3438.3604 ┆ 3461.0583 ┆ WBTC   │\n",
       "│ 2019-02-07 ┆ 3468.16   ┆ 3486.4073 ┆ 3425.8603 ┆ 3425.8603 ┆ WBTC   │\n",
       "│ 2019-02-11 ┆ 3387.7629 ┆ 3770.3402 ┆ 3387.7629 ┆ 3770.3402 ┆ WBTC   │\n",
       "│ 2019-02-15 ┆ 3605.9233 ┆ 3652.9015 ┆ 3605.5237 ┆ 3605.5237 ┆ WBTC   │\n",
       "│ 2019-02-19 ┆ 3613.8624 ┆ 3831.385  ┆ 3613.8624 ┆ 3831.385  ┆ WBTC   │\n",
       "│ …          ┆ …         ┆ …         ┆ …         ┆ …         ┆ …      │\n",
       "│ 2024-01-07 ┆ 2204.1786 ┆ 2264.1205 ┆ 2204.1786 ┆ 2239.5087 ┆ FRXETH │\n",
       "│ 2024-01-11 ┆ 2217.9515 ┆ 2540.9835 ┆ 2217.9515 ┆ 2540.9835 ┆ FRXETH │\n",
       "│ 2024-01-15 ┆ 2619.135  ┆ 2619.135  ┆ 2481.6893 ┆ 2481.6893 ┆ FRXETH │\n",
       "│ 2024-01-19 ┆ 2515.9513 ┆ 2564.8498 ┆ 2454.1049 ┆ 2454.1049 ┆ FRXETH │\n",
       "│ 2024-01-23 ┆ 2468.0286 ┆ 2468.0286 ┆ 2449.4172 ┆ 2449.4172 ┆ FRXETH │\n",
       "└────────────┴───────────┴───────────┴───────────┴───────────┴────────┘"
      ]
     },
     "metadata": {},
     "output_type": "display_data"
    }
   ],
   "source": [
    "display(df)"
   ]
  },
  {
   "cell_type": "code",
   "execution_count": 4,
   "metadata": {},
   "outputs": [
    {
     "name": "stdout",
     "output_type": "stream",
     "text": [
      "30 308 4\n",
      "30 208 101 4\n",
      "(8138, 101, 4)\n",
      "X_train shape: (6510, 100, 4)\n",
      "y_train shape: (6510, 4)\n",
      "X_test shape: (1628, 100, 4)\n",
      "y_test shape: (1628, 4)\n"
     ]
    }
   ],
   "source": [
    "records_per_token = data.groupby(\"token\")[prices].apply(lambda x: x.values.tolist()).to_list()\n",
    "print(len(records_per_token), len(records_per_token[0]), len(records_per_token[0][0]))      # shape: (n_tokens, n_records_per_token, n_columns)\n",
    "\n",
    "# create sequences of length len_sequence each for example [a,b,c,d,e] -> [[a,b,c],[b,c,d],[c,d,e]] where len_sequence = 3\n",
    "len_sequence = 101\n",
    "sequences = []\n",
    "for token_records in records_per_token:\n",
    "    token_sequences = []\n",
    "    for i in range(len(token_records) - len_sequence + 1):\n",
    "        sequence = token_records[i:i+len_sequence]\n",
    "        token_sequences.append(sequence)\n",
    "    sequences.append(token_sequences)\n",
    "\n",
    "print(len(sequences), len(sequences[0]), len(sequences[0][0]), len(sequences[0][0][0]))      # shape: (n_tokens, n_sequences_per_token, len_sequence, n_columns)\n",
    "\n",
    "sequences = [sequence for token_sequences in sequences for sequence in token_sequences] # concatenate all the sequences of all the tokens\n",
    "sequences = np.array(sequences)\n",
    "print(sequences.shape)    # shape: (n_total_sequences, len_sequence-1, n_columns)\n",
    "\n",
    "# Split the data into training and testing sets\n",
    "X_train, X_test, y_train, y_test = train_test_split(sequences[:, :len_sequence-1], sequences[:, len_sequence-1], test_size=0.2, random_state=42)\n",
    "print(\"X_train shape:\", X_train.shape)  # shape: (n_train_sequences, len_sequence-1, n_columns)\n",
    "print(\"y_train shape:\", y_train.shape)  # shape: (n_train_sequences, n_columns)\n",
    "print(\"X_test shape:\", X_test.shape)    # shape: (n_test_sequences, len_sequence-1, n_columns)\n",
    "print(\"y_test shape:\", y_test.shape)    # shape: (n_test_sequences, n_columns)"
   ]
  },
  {
   "cell_type": "code",
   "execution_count": 5,
   "metadata": {},
   "outputs": [
    {
     "name": "stdout",
     "output_type": "stream",
     "text": [
      "Epoch 1/10\n",
      "\u001b[1m407/407\u001b[0m \u001b[32m━━━━━━━━━━━━━━━━━━━━\u001b[0m\u001b[37m\u001b[0m \u001b[1m19s\u001b[0m 40ms/step - loss: 0.0012 - val_loss: 2.2565e-04\n",
      "Epoch 2/10\n",
      "\u001b[1m407/407\u001b[0m \u001b[32m━━━━━━━━━━━━━━━━━━━━\u001b[0m\u001b[37m\u001b[0m \u001b[1m16s\u001b[0m 39ms/step - loss: 1.4774e-04 - val_loss: 1.4421e-04\n",
      "Epoch 3/10\n",
      "\u001b[1m407/407\u001b[0m \u001b[32m━━━━━━━━━━━━━━━━━━━━\u001b[0m\u001b[37m\u001b[0m \u001b[1m16s\u001b[0m 40ms/step - loss: 1.1300e-04 - val_loss: 1.3631e-04\n",
      "Epoch 4/10\n",
      "\u001b[1m407/407\u001b[0m \u001b[32m━━━━━━━━━━━━━━━━━━━━\u001b[0m\u001b[37m\u001b[0m \u001b[1m15s\u001b[0m 37ms/step - loss: 9.7490e-05 - val_loss: 1.0050e-04\n",
      "Epoch 5/10\n",
      "\u001b[1m407/407\u001b[0m \u001b[32m━━━━━━━━━━━━━━━━━━━━\u001b[0m\u001b[37m\u001b[0m \u001b[1m15s\u001b[0m 37ms/step - loss: 8.2726e-05 - val_loss: 7.3798e-05\n",
      "Epoch 6/10\n",
      "\u001b[1m407/407\u001b[0m \u001b[32m━━━━━━━━━━━━━━━━━━━━\u001b[0m\u001b[37m\u001b[0m \u001b[1m15s\u001b[0m 37ms/step - loss: 6.5381e-05 - val_loss: 5.3217e-05\n",
      "Epoch 7/10\n",
      "\u001b[1m407/407\u001b[0m \u001b[32m━━━━━━━━━━━━━━━━━━━━\u001b[0m\u001b[37m\u001b[0m \u001b[1m16s\u001b[0m 40ms/step - loss: 8.4367e-05 - val_loss: 8.9898e-05\n",
      "Epoch 8/10\n",
      "\u001b[1m407/407\u001b[0m \u001b[32m━━━━━━━━━━━━━━━━━━━━\u001b[0m\u001b[37m\u001b[0m \u001b[1m16s\u001b[0m 40ms/step - loss: 7.3519e-05 - val_loss: 6.1565e-05\n",
      "Epoch 9/10\n",
      "\u001b[1m407/407\u001b[0m \u001b[32m━━━━━━━━━━━━━━━━━━━━\u001b[0m\u001b[37m\u001b[0m \u001b[1m15s\u001b[0m 37ms/step - loss: 7.8533e-05 - val_loss: 4.8012e-05\n",
      "Epoch 10/10\n",
      "\u001b[1m407/407\u001b[0m \u001b[32m━━━━━━━━━━━━━━━━━━━━\u001b[0m\u001b[37m\u001b[0m \u001b[1m15s\u001b[0m 37ms/step - loss: 5.4335e-05 - val_loss: 5.2286e-05\n"
     ]
    },
    {
     "data": {
      "text/plain": [
       "Text(0.5, 1.0, 'Loss Evolution')"
      ]
     },
     "execution_count": 5,
     "metadata": {},
     "output_type": "execute_result"
    },
    {
     "data": {
      "image/png": "[encoded data removed]",
      "text/plain": [
       "<Figure size 1200x400 with 1 Axes>"
      ]
     },
     "metadata": {},
     "output_type": "display_data"
    }
   ],
   "source": [
    "# construct model\n",
    "training_model = tf.keras.Sequential([\n",
    "    tf.keras.layers.LSTM(64, return_sequences=True),\n",
    "    tf.keras.layers.LSTM(64),\n",
    "    tf.keras.layers.Dense(len(prices))    # output layer with the same number of columns as the input\n",
    "])\n",
    "\n",
    "# compile the model\n",
    "training_model.compile(optimizer=tf.keras.optimizers.Adam(learning_rate=0.002), loss='mean_squared_error')\n",
    "\n",
    "# train the model\n",
    "history = training_model.fit(X_train, y_train, epochs=10, batch_size=16, validation_data=(X_test, y_test))\n",
    "\n",
    "# plot the training and validation loss\n",
    "plt.figure(figsize=(12, 4))\n",
    "plt.subplot(1, 2, 1)\n",
    "plt.plot(history.history['loss'], label='Train Loss')\n",
    "plt.plot(history.history['val_loss'], label='Test Loss')\n",
    "plt.legend()\n",
    "plt.title('Loss Evolution')"
   ]
  },
  {
   "cell_type": "code",
   "execution_count": 6,
   "metadata": {},
   "outputs": [
    {
     "name": "stdout",
     "output_type": "stream",
     "text": [
      "Tokens:  {'WBTC': 0, 'WETH': 1, 'USDC': 2, 'USDT': 3, 'DAI': 4, 'LINK': 5, 'AAVE': 6, 'STETH': 7, 'WSTETH': 8, 'ETH': 9, 'FRAX': 10, 'RETH': 11, 'YFI': 12, 'MIM': 13, '3CRV': 14, 'ALCX': 15, 'MKR': 16, 'STMATIC': 17, 'WAVAX': 18, 'UNI': 19, 'COMP': 20, 'GNO': 21, 'COW': 22, 'ALUSD': 23, 'SAVAX': 24, 'WMATIC': 25, 'CVX': 26, 'WOO': 27, 'TUSD': 28, 'FRXETH': 29}\n"
     ]
    }
   ],
   "source": [
    "class InferenceModel(tf.keras.Model):\n",
    "    def __init__(self, training_model, latest_sequence_per_token, min_price: float, max_price: float):\n",
    "        super(InferenceModel, self).__init__()\n",
    "        self.training_model = training_model\n",
    "        self.min_price = min_price\n",
    "        self.max_price = max_price\n",
    "        self.latest_sequence_per_token = tf.constant(latest_sequence_per_token, dtype=tf.float32)  # convert to tensor\n",
    "\n",
    "    @tf.function\n",
    "    def call(self, inputs):\n",
    "        num_intervals = inputs[0]\n",
    "        num_intervals = tf.cast(num_intervals, dtype=tf.int32)  # convert to int32\n",
    "        token = inputs[1]\n",
    "        token = tf.cast(token, dtype=tf.int32)  # convert to int32\n",
    "        price = inputs[2]\n",
    "        price = tf.cast(price, dtype=tf.int32)\n",
    "        sequence = tf.gather(self.latest_sequence_per_token, token)    # get the latest sequence for the token\n",
    "        len_sequence = tf.constant(sequence.shape[0], dtype=tf.int32)  # get the length of the sequence\n",
    "\n",
    "        # Define the loop condition\n",
    "        def condition(i, sequence):\n",
    "            return i < num_intervals\n",
    "\n",
    "        # Define the loop body\n",
    "        def body(i, sequence):\n",
    "            inputs = sequence[-len_sequence:, :]        # get the last sequence\n",
    "            inputs = tf.expand_dims(inputs, axis=0)     # add the batch dimension\n",
    "            prediction = self.training_model(inputs)    # predict the closing price for the next interval\n",
    "            sequence = tf.concat([sequence, prediction], axis=0)            # append the prediction to the sequence\n",
    "            return i + 1, sequence\n",
    "\n",
    "        # Use tf.while_loop to construct the loop\n",
    "        _, final_sequence = tf.while_loop(condition, body, [0, sequence], shape_invariants=[tf.TensorShape([]), tf.TensorShape([None, sequence.shape[1]])])\n",
    "\n",
    "        # denormalize the result\n",
    "        final_sequence = final_sequence * (self.max_price - self.min_price) + self.min_price\n",
    "\n",
    "        return final_sequence[-num_intervals:, price]  # return the last value in the sequence\n",
    "    \n",
    "\n",
    "# create a dictionary with the latest sequence for each token\n",
    "latest_sequence_per_token = [data[data['token'] == token][prices].values[-len_sequence:] for token in data['token'].unique()]\n",
    "tokens = {element:idx for idx, element in enumerate(data['token'].unique())}\n",
    "print(\"Tokens: \", tokens)\n",
    "\n",
    "# construct and save the inference model\n",
    "inference_model = InferenceModel(training_model, latest_sequence_per_token, min_price, max_price)\n",
    "inference_model.build(input_shape=(3,))"
   ]
  },
  {
   "cell_type": "code",
   "execution_count": 7,
   "metadata": {},
   "outputs": [
    {
     "name": "stdout",
     "output_type": "stream",
     "text": [
      "tf.Tensor(\n",
      "[2536.0488 2567.1807 2603.615  2642.2266 2682.7385 2725.132  2769.457\n",
      " 2815.7961 2864.2466 2914.9167 2967.9175 3023.366  3081.382  3142.0906\n",
      " 3205.6208 3272.1108 3341.7043 3414.5544 3490.8228 3570.68   3654.3088\n",
      " 3741.9014 3833.6626 3929.8118 4030.5781 4136.21   4246.969  4363.1333\n",
      " 4485.0005 4612.887  4747.132  4888.095  5036.1636 5191.7485 5355.291\n",
      " 5527.266  5708.178  5898.578 ], shape=(38,), dtype=float32)\n",
      "Predicted Close price for token 'BTC' on 2024-06-24: 5898.578125\n"
     ]
    },
    {
     "data": {
      "image/png": "[encoded data removed]",
      "text/plain": [
       "<Figure size 1200x400 with 1 Axes>"
      ]
     },
     "metadata": {},
     "output_type": "display_data"
    }
   ],
   "source": [
    "# Run the model to predict the closing price on 2024-02-04 for token 'FRXETH'\n",
    "\n",
    "# get the number of intervals between the most recent date and the target date (interval = 4 days)\n",
    "target_date = '2024-06-24'\n",
    "num_intervals = (pd.Timestamp(target_date) - most_recent_date).days // 4\n",
    "token = tokens['FRXETH']\n",
    "price = prices.index('Close')\n",
    "\n",
    "# predict the closing price for the target date\n",
    "predicted_sequence = inference_model(inputs=[num_intervals, token, price])\n",
    "print(predicted_sequence)\n",
    "print(f\"Predicted Close price for token 'BTC' on {target_date}: {predicted_sequence[-1]}\")\n",
    "\n",
    "# append the predicted sequence to the latest sequence in the dataset\n",
    "final_sequence = latest_sequence_per_token[token][:, price] # shape: (len_sequence,)\n",
    "final_sequence = final_sequence * (max_price - min_price) + min_price   # unnormalize the sequence\n",
    "final_sequence = np.concatenate([final_sequence, predicted_sequence.numpy()]) # shape: (len_sequence + num_intervals,)\n",
    "\n",
    "# plot the final sequence\n",
    "plt.figure(figsize=(12, 4))\n",
    "plt.plot(final_sequence[:len_sequence], label='Final', color='blue')\n",
    "\n",
    "# plot the predicted sequence\n",
    "plt.plot(range(len_sequence-1, len(final_sequence)), final_sequence[len_sequence-1:], label='Predicted', color='red')\n",
    "\n",
    "plt.title(f'Predicted Close Price for Token \"BTC\" from {most_recent_date} to {target_date}')\n",
    "plt.xlabel('Interval')\n",
    "plt.ylabel('Closing Price')\n",
    "plt.legend()\n",
    "plt.show()"
   ]
  },
  {
   "cell_type": "code",
   "execution_count": 8,
   "metadata": {},
   "outputs": [
    {
     "name": "stdout",
     "output_type": "stream",
     "text": [
      "INFO:tensorflow:Assets written to: TokenPricePredictionModel/0000001\\assets\n"
     ]
    },
    {
     "name": "stderr",
     "output_type": "stream",
     "text": [
      "INFO:tensorflow:Assets written to: TokenPricePredictionModel/0000001\\assets\n"
     ]
    },
    {
     "name": "stdout",
     "output_type": "stream",
     "text": [
      "Saved artifact at 'TokenPricePredictionModel/0000001'. The following endpoints are available:\n",
      "\n",
      "* Endpoint 'serve'\n",
      "  args_0 (POSITIONAL_ONLY): TensorSpec(shape=(None,), dtype=tf.float32, name=None)\n",
      "Output Type:\n",
      "  TensorSpec(shape=(None,), dtype=tf.float32, name=None)\n",
      "Captures:\n",
      "  1993030317184: TensorSpec(shape=(30, 101, 4), dtype=tf.float32, name=None)\n",
      "  1993025029744: TensorSpec(shape=(), dtype=tf.resource, name=None)\n",
      "  1993025030272: TensorSpec(shape=(), dtype=tf.resource, name=None)\n",
      "  1993025030800: TensorSpec(shape=(), dtype=tf.resource, name=None)\n",
      "  1993025030096: TensorSpec(shape=(), dtype=tf.resource, name=None)\n",
      "  1993025030976: TensorSpec(shape=(), dtype=tf.resource, name=None)\n",
      "  1993025032032: TensorSpec(shape=(), dtype=tf.resource, name=None)\n",
      "  1993025031680: TensorSpec(shape=(), dtype=tf.resource, name=None)\n",
      "  1993025032208: TensorSpec(shape=(), dtype=tf.resource, name=None)\n"
     ]
    }
   ],
   "source": [
    "    # Save the model\n",
    "inference_model.export('TokenPricePredictionModel/0000001')"
   ]
  },
  {
   "cell_type": "code",
   "execution_count": 9,
   "metadata": {},
   "outputs": [
    {
     "name": "stdout",
     "output_type": "stream",
     "text": [
      "12269faaf521f9b021cbce562702705f9895359f723122663aa8676531abbb8a\n"
     ]
    }
   ],
   "source": [
    "# deploy the model to a TensorFlow Serving container\n",
    "!docker run -d -p 8501:8501 --name tfserving_token_price_prediction --mount type=bind,source=/c/Users/Moses/Desktop/TokenPricePredictionModel/TokenPricePredictionModel,target=/models/TokenPricePredictionModel -e MODEL_NAME=TokenPricePredictionModel -t tensorflow/serving"
   ]
  },
  {
   "cell_type": "code",
   "execution_count": 10,
   "metadata": {},
   "outputs": [
    {
     "name": "stdout",
     "output_type": "stream",
     "text": [
      "{'predictions': [2536.04883, 2567.18066, 2603.61499]}\n"
     ]
    }
   ],
   "source": [
    "# make a request to the container to predict the closing price on 2024-02-04 for token 'FRXETH'\n",
    "\n",
    "# get the number of intervals between the most recent date and the target date (interval = 4 days)\n",
    "target_date = '2024-02-04'\n",
    "num_intervals = (pd.Timestamp(target_date) - most_recent_date).days // 4\n",
    "\n",
    "# make a request to the TensorFlow Serving container\n",
    "import requests\n",
    "import json\n",
    "\n",
    "url = 'http://localhost:8501/v1/models/TokenPricePredictionModel:predict'\n",
    "headers = {\"content-type\": \"application/json\"}\n",
    "data = json.dumps({\"signature_name\": \"serving_default\", \"instances\": [num_intervals, tokens[\"FRXETH\"], prices.index(\"Close\")]})\n",
    "response = requests.post(url, data=data, headers=headers)\n",
    "print(response.json())"
   ]
  }
 ],
 "metadata": {
  "kernelspec": {
   "display_name": "Python 3 (ipykernel)",
   "language": "python",
   "name": "python3"
  },
  "language_info": {
   "codemirror_mode": {
    "name": "ipython",
    "version": 3
   },
   "file_extension": ".py",
   "mimetype": "text/x-python",
   "name": "python",
   "nbconvert_exporter": "python",
   "pygments_lexer": "ipython3",
   "version": "3.11.9"
  }
 },
 "nbformat": 4,
 "nbformat_minor": 2
}
